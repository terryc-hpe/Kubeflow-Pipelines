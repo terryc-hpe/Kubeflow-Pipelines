{
 "cells": [
  {
   "cell_type": "markdown",
   "metadata": {},
   "source": [
    "# List Experiments in Current Namespace"
   ]
  },
  {
   "cell_type": "code",
   "execution_count": 29,
   "metadata": {},
   "outputs": [
    {
     "name": "stdout",
     "output_type": "stream",
     "text": [
      "NAME                     STATUS      AGE\r\n",
      "mxnet-mnist-pvc-1        Succeeded   19m\r\n",
      "mxnet-mnist-pvc-latest   Succeeded   8h\r\n"
     ]
    }
   ],
   "source": [
    "!kubectl get experiments"
   ]
  },
  {
   "cell_type": "markdown",
   "metadata": {},
   "source": [
    "#  Delete Experiment If exists"
   ]
  },
  {
   "cell_type": "code",
   "execution_count": 25,
   "metadata": {},
   "outputs": [
    {
     "name": "stdout",
     "output_type": "stream",
     "text": [
      "experiment.kubeflow.org \"mxnet-mnist-pvc\" deleted\r\n"
     ]
    }
   ],
   "source": [
    "!kubectl delete experiments mxnet-mnist-pvc"
   ]
  },
  {
   "cell_type": "markdown",
   "metadata": {},
   "source": [
    "# Create New Experiment"
   ]
  },
  {
   "cell_type": "code",
   "execution_count": null,
   "metadata": {},
   "outputs": [],
   "source": [
    "# %%bash\n",
    "cat <<EOF | kubectl apply -f -\n",
    "apiVersion: \"kubeflow.org/v1alpha3\"\n",
    "kind: Experiment\n",
    "metadata:\n",
    "  namespace: dev1\n",
    "  name: mxnet-mnist-pvc\n",
    "spec:\n",
    "  objective:\n",
    "    type: maximize\n",
    "    goal: 0.99\n",
    "    objectiveMetricName: Validation-accuracy\n",
    "    additionalMetricNames:\n",
    "      - Train-accuracy\n",
    "  algorithm:\n",
    "    algorithmName: random\n",
    "  parallelTrialCount: 3\n",
    "  maxTrialCount: 13\n",
    "  maxFailedTrialCount: 3\n",
    "  parameters:\n",
    "    - name: --lr\n",
    "      parameterType: double\n",
    "      feasibleSpace:\n",
    "        min: \"0.01\"\n",
    "        max: \"0.03\"\n",
    "    - name: --num-layers\n",
    "      parameterType: int\n",
    "      feasibleSpace:\n",
    "        min: \"2\"\n",
    "        max: \"5\"\n",
    "    - name: --optimizer\n",
    "      parameterType: categorical\n",
    "      feasibleSpace:\n",
    "        list:\n",
    "          - sgd\n",
    "          - adam\n",
    "          - ftrl\n",
    "  trialTemplate:\n",
    "    goTemplate:\n",
    "        rawTemplate: |-\n",
    "          apiVersion: batch/v1\n",
    "          kind: Job\n",
    "          metadata:\n",
    "            name: {{.Trial}}\n",
    "            namespace: {{.NameSpace}}\n",
    "          spec:\n",
    "            template:\n",
    "              spec:\n",
    "                volumes:\n",
    "                  - name: dataset\n",
    "                    persistentVolumeClaim:\n",
    "                      claimName: mxnet-mnist-pvc\n",
    "                containers:\n",
    "                  - name: training-container\n",
    "                    image: ilovepython/katib-mxnet-mnist-pvc:v0.1\n",
    "                    command:\n",
    "                      - 'python3'\n",
    "                      - '/opt/mxnet-mnist/mxnet-mnist.py'\n",
    "                      - '--batch-size=64'\n",
    "                      - '--data-dir=/dataset/MXNET-MNIST'\n",
    "                      {{- with .HyperParameters}}\n",
    "                      {{- range .}}\n",
    "                      - \"{{.Name}}={{.Value}}\"\n",
    "                      {{- end}}\n",
    "                      {{- end}}\n",
    "                    volumeMounts:\n",
    "                      - mountPath: \"/dataset\"\n",
    "                        name: dataset\n",
    "                restartPolicy: Never\n",
    "EOF"
   ]
  },
  {
   "cell_type": "markdown",
   "metadata": {},
   "source": [
    "# List All Experiments"
   ]
  },
  {
   "cell_type": "code",
   "execution_count": 31,
   "metadata": {},
   "outputs": [
    {
     "name": "stdout",
     "output_type": "stream",
     "text": [
      "NAME                STATUS      AGE\r\n",
      "mxnet-mnist-pvc-1   Succeeded   21m\r\n"
     ]
    }
   ],
   "source": [
    "!kubectl get experiments mxnet-mnist-pvc"
   ]
  },
  {
   "cell_type": "markdown",
   "metadata": {},
   "source": [
    "# List All Pods"
   ]
  },
  {
   "cell_type": "code",
   "execution_count": 24,
   "metadata": {},
   "outputs": [
    {
     "name": "stdout",
     "output_type": "stream",
     "text": [
      "NAME                                             READY   STATUS    RESTARTS   AGE\r\n",
      "dataaccess                                       2/2     Running   0          8h\r\n",
      "mxnet-mnist-pvc-1-5hkrnjsv-d8sd4                 2/2     Running   0          63s\r\n",
      "mxnet-mnist-pvc-1-6rkl5wss-9qnnb                 2/2     Running   0          63s\r\n",
      "mxnet-mnist-pvc-1-r4lh5hrm-lglgq                 2/2     Running   0          63s\r\n",
      "mxnet-mnist-pvc-1-random-8455fcb9ff-bzp52        1/1     Running   0          104s\r\n",
      "mxnet-mnist-pvc-latest-random-6d9d979874-9tj7m   1/1     Running   0          8h\r\n",
      "mxnet-mnist-pvc-random-74dc46d967-xhpt4          1/1     Running   0          25m\r\n",
      "testing-0                                        2/2     Running   0          40m\r\n"
     ]
    }
   ],
   "source": [
    "!kubectl get pods"
   ]
  },
  {
   "cell_type": "code",
   "execution_count": null,
   "metadata": {},
   "outputs": [],
   "source": []
  }
 ],
 "metadata": {
  "kernelspec": {
   "display_name": "Python 3",
   "language": "python",
   "name": "python3"
  },
  "language_info": {
   "codemirror_mode": {
    "name": "ipython",
    "version": 3
   },
   "file_extension": ".py",
   "mimetype": "text/x-python",
   "name": "python",
   "nbconvert_exporter": "python",
   "pygments_lexer": "ipython3",
   "version": "3.6.9"
  }
 },
 "nbformat": 4,
 "nbformat_minor": 4
}
