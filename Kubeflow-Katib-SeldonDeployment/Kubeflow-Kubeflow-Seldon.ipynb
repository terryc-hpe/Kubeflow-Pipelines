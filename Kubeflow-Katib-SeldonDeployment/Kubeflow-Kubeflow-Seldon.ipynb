{
 "cells": [
  {
   "cell_type": "markdown",
   "metadata": {},
   "source": [
    "# Pillow Python Package\n",
    "\n",
    "Here we are installing Pillow python package from .whl which is required to convert .bmp file to numpy array."
   ]
  },
  {
   "cell_type": "code",
   "execution_count": null,
   "metadata": {},
   "outputs": [],
   "source": [
    "!pip install Pillow-8.1.0-cp36-cp36m-manylinux1_x86_64.whl --user"
   ]
  },
  {
   "cell_type": "markdown",
   "metadata": {},
   "source": [
    "# Importing required python packages"
   ]
  },
  {
   "cell_type": "code",
   "execution_count": 13,
   "metadata": {},
   "outputs": [],
   "source": [
    "import json, yaml\n",
    "from string import Template\n",
    "\n",
    "import kfp\n",
    "from kfp import components\n",
    "from kfp.components import func_to_container_op\n",
    "import kfp.dsl as dsl"
   ]
  },
  {
   "cell_type": "markdown",
   "metadata": {},
   "source": [
    "# Create Persistent Volume Claim and upload required file for model training.\n",
    "\n",
    "#### Note: We are deploying current usecase in kubeflow namespace as while running TFJob from Kubeflow in other namespace, istio sidecar is automatically attaching to TFJob pod and that is not allowing the model to be trained using optimal parameter. \n",
    "\n",
    "### 1- Creating PVC in kubeflow namespace.\n",
    "\n",
    "```\n",
    "cat <<EOF | kubectl apply -f -\n",
    "apiVersion: v1\n",
    "kind: PersistentVolumeClaim\n",
    "metadata:\n",
    "  name: mxnet-mnist-pvc\n",
    "  namespace: kubeflow\n",
    "spec:\n",
    "  accessModes:\n",
    "  - ReadWriteMany\n",
    "  resources:\n",
    "    requests:\n",
    "      storage: 5Gi\n",
    "EOF\n",
    "```\n",
    "\n",
    "### 2- Starting Utility Pod.\n",
    "\n",
    "```\n",
    "apiVersion: v1\n",
    "kind: Pod\n",
    "metadata:\n",
    "    name: dataaccess\n",
    "    namespace: kubeflow\n",
    "spec:\n",
    "    containers:\n",
    "    - name: alpine\n",
    "      image: alpine:latest\n",
    "      command: ['sleep', 'infinity']\n",
    "      volumeMounts:\n",
    "      - name: mypvc\n",
    "        mountPath: /data\n",
    "    volumes:\n",
    "    - name: mypvc\n",
    "      persistentVolumeClaim:\n",
    "        claimName: mxnet-mnist-pvc\n",
    "```\n",
    "\n",
    "### 3- Download below files.\n",
    "\n",
    "```\n",
    "wget http://yann.lecun.com/exdb/mnist/train-labels-idx1-ubyte.gz -P /tmp/MXNET-MNIST\n",
    "wget http://yann.lecun.com/exdb/mnist/train-images-idx3-ubyte.gz -P /tmp/MXNET-MNIST\n",
    "wget http://yann.lecun.com/exdb/mnist/t10k-labels-idx1-ubyte.gz -P /tmp/MXNET-MNIST\n",
    "wget http://yann.lecun.com/exdb/mnist/t10k-images-idx3-ubyte.gz -P /tmp/MXNET-MNIST\n",
    "\n",
    "```\n",
    "\n",
    "### 4- Step to copy downloaded files in PV.\n",
    "\n",
    "```\n",
    "kubectl -n kubeflow exec -t dataaccess -c alpine  -- mkdir -p /data/MXNET-MNIST\n",
    "kubectl -n kubeflow cp MXNET-MNIST/t10k-images-idx3-ubyte.gz dataaccess:/data/MXNET-MNIST/t10k-images-idx3-ubyte.gz\n",
    "kubectl -n kubeflow cp MXNET-MNIST/train-images-idx3-ubyte.gz dataaccess:/data/MXNET-MNIST/train-images-idx3-ubyte.gz\n",
    "kubectl -n kubeflow cp MXNET-MNIST/t10k-labels-idx1-ubyte.gz dataaccess:/data/MXNET-MNIST/t10k-labels-idx1-ubyte.gz\n",
    "kubectl -n kubeflow cp MXNET-MNIST/train-labels-idx1-ubyte.gz dataaccess:/data/MXNET-MNIST/train-labels-idx1-ubyte.gz\n",
    "```"
   ]
  },
  {
   "cell_type": "code",
   "execution_count": 14,
   "metadata": {},
   "outputs": [],
   "source": [
    "# Name of PVC which we created on above steps.\n",
    "PVC=\"mxnet-mnist-pvc\""
   ]
  },
  {
   "cell_type": "markdown",
   "metadata": {},
   "source": [
    "# Function To Get Optimal Parameter From Experiment"
   ]
  },
  {
   "cell_type": "code",
   "execution_count": 15,
   "metadata": {},
   "outputs": [],
   "source": [
    "def convert_mnist_experiment_result(experiment_result) -> str:\n",
    "    import json\n",
    "    r = json.loads(experiment_result)\n",
    "    r = r[\"currentOptimalTrial\"][\"parameterAssignments\"]\n",
    "    args = []\n",
    "    for hp in r:\n",
    "        print(hp)\n",
    "        args.append(\"%s=%s\" % (hp[\"name\"], hp[\"value\"]))\n",
    "\n",
    "    return \" \".join(args)"
   ]
  },
  {
   "cell_type": "markdown",
   "metadata": {},
   "source": [
    "# In below cells we all building a spec json for experiment."
   ]
  },
  {
   "cell_type": "code",
   "execution_count": 16,
   "metadata": {},
   "outputs": [],
   "source": [
    "# step 1: create a Katib experiment to tune hyperparameters\n",
    "OBJECTIVE = {\n",
    "      \"type\": \"minimize\",\n",
    "      \"goal\": 0.001,\n",
    "      \"objectiveMetricName\": \"loss\",\n",
    "    }\n",
    "\n",
    "ALGORITHM = {\"algorithmName\" : \"random\"}\n",
    "\n",
    "PARALLEL_TRIAL_COUNT = 3\n",
    "MAX_TRIAL_COUNT = 13\n",
    "MAX_FAILED_TRIAL_COUNT = 2 \n",
    "\n",
    "PARAMETERS = [\n",
    "      {\"name\": \"tf-learning-rate\", \"parameterType\": \"double\", \"feasibleSpace\": {\"min\": \"0.01\",\"max\": \"0.03\"}},\n",
    "      {\"name\": \"tf-batch-size\", \"parameterType\": \"discrete\", \"feasibleSpace\": {\"list\": [\"16\", \"32\", \"64\"]}},\n",
    "]"
   ]
  },
  {
   "cell_type": "code",
   "execution_count": 17,
   "metadata": {},
   "outputs": [],
   "source": [
    "rawTemplate = {\n",
    "      \"apiVersion\": \"kubeflow.org/v1\",\n",
    "      \"kind\": \"TFJob\",\n",
    "      \"metadata\": {\n",
    "         \"name\": \"{{.Trial}}\",\n",
    "         \"namespace\": \"{{.NameSpace}}\"\n",
    "      },\n",
    "      \"spec\": {\n",
    "        \"tfReplicaSpecs\": {\n",
    "          \"Chief\": {\n",
    "            \"replicas\": 1,\n",
    "            \"restartPolicy\": \"OnFailure\",\n",
    "            \"template\": {\n",
    "              \"spec\": {\n",
    "                  \"volumes\": [\n",
    "              {\n",
    "                \"name\": \"dataset\",\n",
    "                \"persistentVolumeClaim\": {\n",
    "                  \"claimName\": PVC\n",
    "                }\n",
    "              }\n",
    "            ],\n",
    "                \"containers\": [\n",
    "                {\n",
    "                  \"command\": [\n",
    "                    \"sh\",\n",
    "                    \"-c\"\n",
    "                  ],\n",
    "                  \"args\": [\n",
    "                    \"python /opt/model.py --tf-train-steps=2000 --tf-data-dir=/dataset/MXNET-MNIST {{- with .HyperParameters}} {{- range .}} {{.Name}}={{.Value}} {{- end}} {{- end}}\"\n",
    "                  ],\n",
    "                  \"image\": \"liuhougangxa/tf-estimator-mnist\",\n",
    "                  \"name\": \"tensorflow\",\n",
    "                    \"volumeMounts\": [\n",
    "                  {\n",
    "                    \"mountPath\": \"/dataset\",\n",
    "                    \"name\": \"dataset\"\n",
    "                  }\n",
    "                ]\n",
    "                }\n",
    "                ]\n",
    "              }\n",
    "            }\n",
    "          },\n",
    "          \"Worker\": {\n",
    "            \"replicas\": 3,\n",
    "            \"restartPolicy\": \"OnFailure\",\n",
    "            \"template\": {\n",
    "              \"spec\": {\n",
    "                  \"volumes\": [\n",
    "              {\n",
    "                \"name\": \"dataset\",\n",
    "                \"persistentVolumeClaim\": {\n",
    "                  \"claimName\": PVC\n",
    "                }\n",
    "              }\n",
    "            ],\n",
    "                \"containers\": [\n",
    "                {\n",
    "                  \"command\": [\n",
    "                    \"sh\",\n",
    "                    \"-c\"\n",
    "                  ],\n",
    "                  \"args\": [ \n",
    "                    \"python /opt/model.py --tf-train-steps=2000 --tf-data-dir=/dataset/MXNET-MNIST {{- with .HyperParameters}} {{- range .}} {{.Name}}={{.Value}} {{- end}} {{- end}}\"\n",
    "                  ],\n",
    "                  \"image\": \"liuhougangxa/tf-estimator-mnist\",\n",
    "                  \"name\": \"tensorflow\",\n",
    "                    \"volumeMounts\": [\n",
    "                  {\n",
    "                    \"mountPath\": \"/dataset\",\n",
    "                    \"name\": \"dataset\"\n",
    "                  }\n",
    "                ]\n",
    "                }\n",
    "                ]\n",
    "              }\n",
    "            }\n",
    "          }\n",
    "        }\n",
    "      }\n",
    "    }\n",
    "\n",
    "\n",
    "TRIAL_TEMPLATE = {\n",
    "      \"goTemplate\": {\n",
    "        \"rawTemplate\": json.dumps(rawTemplate)\n",
    "      }\n",
    "    }"
   ]
  },
  {
   "cell_type": "code",
   "execution_count": 18,
   "metadata": {},
   "outputs": [],
   "source": [
    "METRIC_COLLECTOR_SPEC = {\n",
    "      \"source\": {\n",
    "        \"fileSystemPath\": {\n",
    "          \"path\": \"/tmp/tf\",\n",
    "          \"kind\": \"Directory\"\n",
    "        }\n",
    "      },\n",
    "      \"collector\": {\n",
    "        \"kind\": \"TensorFlowEvent\"\n",
    "      }\n",
    "}"
   ]
  },
  {
   "cell_type": "code",
   "execution_count": 19,
   "metadata": {},
   "outputs": [],
   "source": [
    "KATIB_EXPERIMENT_SPEC = {\n",
    "    \"metricsCollectorSpec\": METRIC_COLLECTOR_SPEC,\n",
    "    \"objective\": OBJECTIVE,\n",
    "    \"algorithm\": ALGORITHM,\n",
    "    \"parallelTrialCount\": PARALLEL_TRIAL_COUNT,\n",
    "    \"maxTrialCount\": MAX_TRIAL_COUNT,\n",
    "    \"maxFailedTrialCount\": MAX_FAILED_TRIAL_COUNT,\n",
    "    \"parameters\": PARAMETERS,\n",
    "    \"trialTemplate\": TRIAL_TEMPLATE\n",
    "}"
   ]
  },
  {
   "cell_type": "code",
   "execution_count": 20,
   "metadata": {},
   "outputs": [
    {
     "name": "stdout",
     "output_type": "stream",
     "text": [
      "{'metricsCollectorSpec': {'source': {'fileSystemPath': {'path': '/tmp/tf', 'kind': 'Directory'}}, 'collector': {'kind': 'TensorFlowEvent'}}, 'objective': {'type': 'minimize', 'goal': 0.001, 'objectiveMetricName': 'loss'}, 'algorithm': {'algorithmName': 'random'}, 'parallelTrialCount': 3, 'maxTrialCount': 13, 'maxFailedTrialCount': 2, 'parameters': [{'name': 'tf-learning-rate', 'parameterType': 'double', 'feasibleSpace': {'min': '0.01', 'max': '0.03'}}, {'name': 'tf-batch-size', 'parameterType': 'discrete', 'feasibleSpace': {'list': ['16', '32', '64']}}], 'trialTemplate': {'goTemplate': {'rawTemplate': '{\"apiVersion\": \"kubeflow.org/v1\", \"kind\": \"TFJob\", \"metadata\": {\"name\": \"{{.Trial}}\", \"namespace\": \"{{.NameSpace}}\"}, \"spec\": {\"tfReplicaSpecs\": {\"Chief\": {\"replicas\": 1, \"restartPolicy\": \"OnFailure\", \"template\": {\"spec\": {\"volumes\": [{\"name\": \"dataset\", \"persistentVolumeClaim\": {\"claimName\": \"mxnet-mnist-pvc\"}}], \"containers\": [{\"command\": [\"sh\", \"-c\"], \"args\": [\"python /opt/model.py --tf-train-steps=2000 --tf-data-dir=/dataset/MXNET-MNIST {{- with .HyperParameters}} {{- range .}} {{.Name}}={{.Value}} {{- end}} {{- end}}\"], \"image\": \"liuhougangxa/tf-estimator-mnist\", \"name\": \"tensorflow\", \"volumeMounts\": [{\"mountPath\": \"/dataset\", \"name\": \"dataset\"}]}]}}}, \"Worker\": {\"replicas\": 3, \"restartPolicy\": \"OnFailure\", \"template\": {\"spec\": {\"volumes\": [{\"name\": \"dataset\", \"persistentVolumeClaim\": {\"claimName\": \"mxnet-mnist-pvc\"}}], \"containers\": [{\"command\": [\"sh\", \"-c\"], \"args\": [\"python /opt/model.py --tf-train-steps=2000 --tf-data-dir=/dataset/MXNET-MNIST {{- with .HyperParameters}} {{- range .}} {{.Name}}={{.Value}} {{- end}} {{- end}}\"], \"image\": \"liuhougangxa/tf-estimator-mnist\", \"name\": \"tensorflow\", \"volumeMounts\": [{\"mountPath\": \"/dataset\", \"name\": \"dataset\"}]}]}}}}}}'}}}\n"
     ]
    }
   ],
   "source": [
    "print(KATIB_EXPERIMENT_SPEC)"
   ]
  },
  {
   "cell_type": "markdown",
   "metadata": {},
   "source": [
    "# Pipeline step to lauch a experiment using katib python sdk (0.0.2)\n",
    "The below image only support katib v1alpha3 crds."
   ]
  },
  {
   "cell_type": "code",
   "execution_count": 21,
   "metadata": {},
   "outputs": [],
   "source": [
    "KATIB_COMPONENT = \"\"\"\n",
    "name: Katib - Launch Experiment\n",
    "description: Katib Experiment launcher\n",
    "inputs:\n",
    "- {name: Experiment Name,            type: String,       default: '',        description: 'Experiment name'}\n",
    "- {name: Experiment Namespace,       type: String,       default: anonymous, description: 'Experiment namespace'}\n",
    "- {name: Experiment Spec,            type: JsonObject,   default: '{}',      description: 'Experiment specification in dict format'}\n",
    "- {name: Experiment Timeout Minutes, type: Integer,      default: 1440,      description: 'Time in minutes to wait for the Experiment to complete'}\n",
    "- {name: Delete Finished Experiment, type: Bool,         default: 'True',    description: 'Whether to delete the Experiment after it is finished'}\n",
    "outputs:\n",
    "- {name: Best Parameter Set,         type: JsonObject,                       description: 'The hyperparameter set of the best Experiment Trial'}\n",
    "implementation:\n",
    "  container:\n",
    "    image:  ilovepython/kpl-katib0.0.2:v0.8\n",
    "    command: [python, src/launch_experiment_alphav3.py]\n",
    "    args: [\n",
    "      --experiment-name,            {inputValue: Experiment Name},\n",
    "      --experiment-namespace,       {inputValue: Experiment Namespace},\n",
    "      --experiment-spec,            {inputValue: Experiment Spec},\n",
    "      --experiment-timeout-minutes, {inputValue: Experiment Timeout Minutes},\n",
    "      --delete-after-done,          {inputValue: Delete Finished Experiment},\n",
    "      --output-file,                {outputPath: Best Parameter Set},\n",
    "    ]\n",
    "\"\"\""
   ]
  },
  {
   "cell_type": "markdown",
   "metadata": {},
   "source": [
    "# TFJob template"
   ]
  },
  {
   "cell_type": "code",
   "execution_count": 22,
   "metadata": {},
   "outputs": [],
   "source": [
    "# create a TFJob to train your model with best hyperparameter tuned by Katib\n",
    "tfjobjson_template = Template(\"\"\"\n",
    "{\n",
    "  \"apiVersion\": \"kubeflow.org/v1\",\n",
    "  \"kind\": \"TFJob\",\n",
    "  \"metadata\": {\n",
    "    \"name\": \"$name\",\n",
    "    \"namespace\": \"$namespace\"\n",
    "  },\n",
    "  \"spec\": {\n",
    "    \"tfReplicaSpecs\": {\n",
    "      \"Chief\": {\n",
    "        \"replicas\": 1,\n",
    "        \"restartPolicy\": \"OnFailure\",\n",
    "        \"template\": {\n",
    "          \"spec\": {\n",
    "            \"volumes\": [\n",
    "              {\n",
    "                \"name\": \"dataset\",\n",
    "                \"persistentVolumeClaim\": {\n",
    "                  \"claimName\": \"$modelpvc\"\n",
    "                }\n",
    "              }\n",
    "            ],\n",
    "            \"containers\": [\n",
    "              {\n",
    "                \"command\": [\n",
    "                  \"sh\",\n",
    "                  \"-c\"\n",
    "                ],\n",
    "                \"args\": [\n",
    "                  \"python /opt/model.py --tf-train-steps=$step --tf-export-dir=/dataset/model --tf-data-dir=/dataset/MXNET-MNIST $args\"\n",
    "                ],\n",
    "                \"image\": \"liuhougangxa/tf-estimator-mnist\",\n",
    "                \"name\": \"tensorflow\",\n",
    "                \"volumeMounts\": [\n",
    "                  {\n",
    "                    \"mountPath\": \"/dataset\",\n",
    "                    \"name\": \"dataset\"\n",
    "                  }\n",
    "                ]\n",
    "              }\n",
    "            ]\n",
    "          }\n",
    "        }\n",
    "      },\n",
    "      \"Worker\": {\n",
    "        \"replicas\": 3,\n",
    "        \"restartPolicy\": \"OnFailure\",\n",
    "        \"template\": {\n",
    "          \"spec\": {\n",
    "            \"volumes\": [\n",
    "              {\n",
    "                \"name\": \"dataset\",\n",
    "                \"persistentVolumeClaim\": {\n",
    "                  \"claimName\": \"$modelpvc\"\n",
    "                }\n",
    "              }\n",
    "            ],\n",
    "            \"containers\": [\n",
    "              {\n",
    "                \"command\": [\n",
    "                  \"sh\",\n",
    "                  \"-c\"\n",
    "                ],\n",
    "                \"args\": [\n",
    "                  \"python /opt/model.py --tf-train-steps=$step --tf-export-dir=/dataset/model --tf-data-dir=/dataset/MXNET-MNIST $args\"\n",
    "                ],\n",
    "                \"image\": \"liuhougangxa/tf-estimator-mnist\",\n",
    "                \"name\": \"tensorflow\",\n",
    "                \"volumeMounts\": [\n",
    "                  {\n",
    "                    \"mountPath\": \"/dataset\",\n",
    "                    \"name\": \"dataset\"\n",
    "                  }\n",
    "                ]\n",
    "              }\n",
    "            ]\n",
    "          }\n",
    "        }\n",
    "      }\n",
    "    }\n",
    "  }\n",
    "}\n",
    "\"\"\")"
   ]
  },
  {
   "cell_type": "markdown",
   "metadata": {},
   "source": [
    "# Seldon Deployment template"
   ]
  },
  {
   "cell_type": "code",
   "execution_count": 23,
   "metadata": {},
   "outputs": [],
   "source": [
    "# Seldon deployment template.\n",
    "SELDON_DEPLOYMENT_YAML = \"\"\"\n",
    "apiVersion: machinelearning.seldon.io/v1alpha2\n",
    "kind: SeldonDeployment\n",
    "metadata:\n",
    "  name: \"seldon-deployment-{{{{workflow.name}}}}\"\n",
    "  namespace: kubeflow\n",
    "spec:\n",
    "  name: mnist\n",
    "  predictors:\n",
    "    - graph:\n",
    "        children: []\n",
    "        implementation: TENSORFLOW_SERVER\n",
    "        modelUri: \"pvc://{}/model\"\n",
    "        name: mnist-model\n",
    "        parameters:\n",
    "          - name: model_output\n",
    "            type: STRING\n",
    "            value: scores\n",
    "      name: default\n",
    "      replicas: 1\n",
    "\"\"\"\n",
    "SELDON_DEPLOYMENT_YAML = SELDON_DEPLOYMENT_YAML.format(PVC)"
   ]
  },
  {
   "cell_type": "code",
   "execution_count": 24,
   "metadata": {},
   "outputs": [],
   "source": [
    "@dsl.pipeline(\n",
    "    name=\"End to end pipeline\",\n",
    "    description=\"An end to end example including hyperparameter tuning, train and inference.\"\n",
    ")\n",
    "def mnist_pipeline(\n",
    "        name=\"mnist-{{workflow.uid}}\",\n",
    "        namespace=\"kubeflow\",\n",
    "        step=2000):\n",
    "    \n",
    "    katib_experiment_launcher_op = components.load_component_from_text(KATIB_COMPONENT)\n",
    "\n",
    "    \n",
    "    op1 = katib_experiment_launcher_op(\n",
    "        experiment_name=name,\n",
    "        experiment_namespace=namespace,\n",
    "        experiment_spec = KATIB_EXPERIMENT_SPEC,\n",
    "        delete_finished_experiment=False)\n",
    "    \n",
    "\n",
    "    convert_op = func_to_container_op(convert_mnist_experiment_result)\n",
    "    op2 = convert_op(op1.output)\n",
    "    \n",
    "\n",
    "    tfjobjson = tfjobjson_template.substitute(\n",
    "            {'args': op2.output,\n",
    "             'name': name,\n",
    "             'namespace': namespace,\n",
    "             'step': step,\n",
    "             'modelpvc': PVC\n",
    "            })\n",
    "\n",
    "    tfjob = json.loads(tfjobjson)\n",
    "\n",
    "    train = dsl.ResourceOp(\n",
    "        name=\"train\",\n",
    "        k8s_resource=tfjob,\n",
    "        success_condition='status.replicaStatuses.Worker.succeeded==3,status.replicaStatuses.Chief.succeeded==1'\n",
    "    ).after(op2)\n",
    "    \n",
    "    seldon_config = yaml.safe_load(SELDON_DEPLOYMENT_YAML)\n",
    "\n",
    "    deploy_step = dsl.ResourceOp(\n",
    "        name=\"Seldon-Deployment\",\n",
    "        k8s_resource=seldon_config,\n",
    "        attribute_outputs={\"name\": \"{.metadata.name}\"})\n",
    "\n",
    "    deploy_step.after(train)"
   ]
  },
  {
   "cell_type": "code",
   "execution_count": 25,
   "metadata": {},
   "outputs": [
    {
     "data": {
      "text/html": [
       "<a href=\"/pipeline/#/experiments/details/d89dc1cd-8dc2-43df-ae6e-af11bed41c1c\" target=\"_blank\" >Experiment details</a>."
      ],
      "text/plain": [
       "<IPython.core.display.HTML object>"
      ]
     },
     "metadata": {},
     "output_type": "display_data"
    },
    {
     "data": {
      "text/html": [
       "<a href=\"/pipeline/#/runs/details/eba625a4-d4c0-4713-86e8-46890d43f500\" target=\"_blank\" >Run details</a>."
      ],
      "text/plain": [
       "<IPython.core.display.HTML object>"
      ]
     },
     "metadata": {},
     "output_type": "display_data"
    },
    {
     "data": {
      "text/plain": [
       "RunPipelineResult(run_id=eba625a4-d4c0-4713-86e8-46890d43f500)"
      ]
     },
     "execution_count": 25,
     "metadata": {},
     "output_type": "execute_result"
    }
   ],
   "source": [
    "kfp.Client().create_run_from_pipeline_func(mnist_pipeline, arguments={})"
   ]
  },
  {
   "cell_type": "markdown",
   "metadata": {},
   "source": [
    "# The Input Image which will be passed as input to model."
   ]
  },
  {
   "cell_type": "code",
   "execution_count": 47,
   "metadata": {},
   "outputs": [
    {
     "name": "stdout",
     "output_type": "stream",
     "text": [
      "Populating the interactive namespace from numpy and matplotlib\n"
     ]
    },
    {
     "data": {
      "text/plain": [
       "<matplotlib.image.AxesImage at 0x7f9d6d85ed68>"
      ]
     },
     "execution_count": 47,
     "metadata": {},
     "output_type": "execute_result"
    },
    {
     "data": {
      "image/png": "[encoded data removed]",
      "text/plain": [
       "<Figure size 432x288 with 1 Axes>"
      ]
     },
     "metadata": {
      "needs_background": "light"
     },
     "output_type": "display_data"
    }
   ],
   "source": [
    "%pylab inline --no-import-all\n",
    "from PIL import Image\n",
    "img= Image.open(r'7.bmp')\n",
    "plt.imshow(img,cmap='gray',vmin=0,vmax=255)"
   ]
  },
  {
   "cell_type": "markdown",
   "metadata": {},
   "source": [
    "# Prediction\n",
    "\n",
    "Before executing the belwo cell please fetch few data and update in below cell.\n",
    "\n",
    "#### SESSION\n",
    "Please find the authservice_session cookie content and update the SESSION in below cell.\n",
    "#### KUBEFLOW_URL\n",
    "Please find out the Kubeflow URL and update KUBEFLOW_URL in below cell.\n",
    "#### SELDON_DEPLOYMENT_NAME\n",
    "Seldon Deployment name you can find by executing the below command.\n",
    "```\n",
    "kubectl get seldondeployment -n kubeflow\n",
    "```"
   ]
  },
  {
   "cell_type": "code",
   "execution_count": 48,
   "metadata": {},
   "outputs": [
    {
     "name": "stdout",
     "output_type": "stream",
     "text": [
      "The input image is: 7.\n"
     ]
    }
   ],
   "source": [
    "import numpy as np\n",
    "from PIL import Image\n",
    "import requests, json\n",
    "\n",
    "image_file = '7.bmp'\n",
    "data = np.array(Image.open(image_file).convert('L').resize((28, 28))).astype(np.float).reshape(-1, 28, 28, 1)\n",
    "\n",
    "SESSION=\"MTYxMzQ3MjM5OHxOd3dBTkVoYVVGcFpRMDlPVlVkTlQweFRUMEpWUmtkSVdVWTFORXBYUzBoTU5WTllVVVJHUmxkSFVVYzNNa3hFUkZoUlVFWlBOVUU9fKM3SPEjMMJ8Y7a6w1-iAZuGbGa0_Ed1HPBmmZzdZ6sj\"\n",
    "\n",
    "NAMESPACE=\"kubeflow\"\n",
    "\n",
    "KUBEFLOW_URL=\"http://mip-bd-vm182.mip.storage.hpecorp.net:10029\"\n",
    "\n",
    "SELDON_DEPLOYMENT_NAME=\"seldon-deployment-end-to-end-pipeline-f7pvs\"\n",
    "\n",
    "cookies = {\n",
    "    'authservice_session': SESSION\n",
    "}\n",
    "\n",
    "headers = {\n",
    "    'Accept': 'application/json',\n",
    "    'Content-Type': 'application/json',\n",
    "    'Host': 'mip-bd-vm158.mip.storage.hpecorp.net'\n",
    "}\n",
    "\n",
    "\n",
    "np.set_printoptions(threshold=np.inf)\n",
    "json_request= json.dumps({\"data\":{\"ndarray\":data.tolist()}})\n",
    "\n",
    "URL = \"{}/seldon/{}/{}/api/v0.1/predictions\".format(KUBEFLOW_URL,NAMESPACE,SELDON_DEPLOYMENT_NAME)\n",
    "response = requests.post(URL, headers=headers, cookies=cookies, data=json_request)\n",
    "prediction = response.json()['data']['ndarray'][0][0]['classes']\n",
    "\n",
    "print(\"The input image is: {}.\".format(prediction))\n"
   ]
  },
  {
   "cell_type": "code",
   "execution_count": null,
   "metadata": {},
   "outputs": [],
   "source": []
  },
  {
   "cell_type": "code",
   "execution_count": null,
   "metadata": {},
   "outputs": [],
   "source": []
  }
 ],
 "metadata": {
  "kernelspec": {
   "display_name": "Python 3",
   "language": "python",
   "name": "python3"
  },
  "language_info": {
   "codemirror_mode": {
    "name": "ipython",
    "version": 3
   },
   "file_extension": ".py",
   "mimetype": "text/x-python",
   "name": "python",
   "nbconvert_exporter": "python",
   "pygments_lexer": "ipython3",
   "version": "3.6.9"
  }
 },
 "nbformat": 4,
 "nbformat_minor": 4
}
